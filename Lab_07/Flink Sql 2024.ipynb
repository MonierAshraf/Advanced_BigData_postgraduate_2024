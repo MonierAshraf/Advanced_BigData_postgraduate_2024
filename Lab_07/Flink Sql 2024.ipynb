{
 "cells": [
  {
   "cell_type": "markdown",
   "metadata": {},
   "source": [
    "## Flink Sql\n",
    "\n",
    "-- For Quick Demo follow the steps in this [link](https://flink.apache.org/2020/07/28/flink-sql-demo-building-e2e-streaming-application.html)"
   ]
  },
  {
   "cell_type": "markdown",
   "metadata": {},
   "source": [
    "### Tutorial\n",
    "\n",
    "This tutorial is covering the trainning presented by Vervica \n",
    "\n",
    "You can find it in the Github from this [link](https://github.com/ververica/sql-training/wiki/Introduction-to-SQL-on-Flink)"
   ]
  },
  {
   "cell_type": "markdown",
   "metadata": {},
   "source": [
    "### Setting Up The Environment\n",
    "\n",
    "1. Install Docker from [link](https://www.docker.com/)\n",
    "2. Make directory `mkdir Vervica`\n",
    "4. Download YAML file from git by writing this command in the terminal\n",
    "`git clone https://github.com/ververica/sql-training`\n",
    "3. Change directory `cd sql-training`\n",
    "\n",
    "\n",
    "5. Then start the trainning environment \n",
    "\n",
    "    1. Mac and Linux : `docker-compose up -d`\n",
    "    2. Windows : `set COMPOSE_CONVERT_WINDOWS_PATHS=1\n",
    "docker-compose up -d`\n",
    "6. Make sure that all the contatinrs are up and running \n",
    "`docker ps`\n",
    "\n",
    "\n"
   ]
  },
  {
   "cell_type": "markdown",
   "metadata": {},
   "source": [
    "### Entering the SQL CLI client\n",
    "\n",
    "`docker-compose exec sql-client ./sql-client.sh`"
   ]
  },
  {
   "cell_type": "markdown",
   "metadata": {},
   "source": [
    "### Intrduction to Flink SQL\n",
    "\n",
    "https://github.com/ververica/sql-training/wiki/Introduction-to-SQL-on-Flink\n",
    "\n",
    "\n",
    "1. Listing All predefined Tables `SHOW TABLES;`\n",
    "2. Describe Tables `DESCRIBE RIDES`"
   ]
  },
  {
   "cell_type": "markdown",
   "metadata": {},
   "source": [
    "##### Rides\n",
    "We will use the Rides source table for all of the exercises. It contains information about taxi rides that took place in New York City in the beginning of 2013. Each ride is represented by two event records, a start ride event and an end ride event.\n",
    "\n",
    "The schema of the Rides table is as follows:\n",
    "```\n",
    "- rideId: BIGINT       // the unique id of a ride (note, Rides contains two records per ride)\n",
    "- taxiId: BIGINT       // the unique id of the taxi\n",
    "- isStart: BOOLEAN     // flag for pick-up (true) or drop-off (false) event\n",
    "- lon: FLOAT           // the longitude of the pick-up or drop-off location\n",
    "- lat: FLOAT           // the latitude of the pick-up or drop-off location\n",
    "- rideTime: TIMESTAMP  // the time of the pick-up or drop-off event\n",
    "- psgCnt: INT          // the number of passengers on the ride\n",
    "```"
   ]
  },
  {
   "cell_type": "markdown",
   "metadata": {},
   "source": [
    "#### Fares\n",
    "\n",
    "The Fares source table contains information about about the fares paid for the taxi rides. The table contains one record for each taxi ride.\n",
    "\n",
    "The schema of the Fares table is as follows:\n",
    "```\n",
    "rideId: BIGINT      // the unique id of the ride\n",
    "payTime: TIMESTAMP  // the time when the payment was made (same as timestamp of ride end event in Rides table)\n",
    "payMethod: VARCHAR  // the method of payment (CSH, CRD, DIS, NOC, UNK)\n",
    "tip: FLOAT          // the amount of paid tip\n",
    "toll: FLOAT         // the amount of paid toll\n",
    "fare: FLOAT         // the amount of paid fare\n",
    "```"
   ]
  },
  {
   "cell_type": "markdown",
   "metadata": {},
   "source": [
    "#### DriverChanges\n",
    "The DriverChanges table contains one record for event when a taxi is driven by another driver than before, i.e., when the driver of a taxi changes. This might happen when a driver starts a new shift.\n",
    "\n",
    "The schema of the DriverChanges table is as follows:\n",
    "\n",
    "```\n",
    "taxiId: BIGINT             // the unique id of the taxi\n",
    "driverId: BIGINT           // the unique id of the driver who starts using the taxi\n",
    "usageStartTime: TIMESTAMP  // the time when the driver starts using the taxi\n",
    "```"
   ]
  },
  {
   "cell_type": "markdown",
   "metadata": {},
   "source": [
    "# Explore the data\n",
    "\n",
    "`SELECT * FROM Rides;`"
   ]
  },
  {
   "cell_type": "markdown",
   "metadata": {},
   "source": [
    "``` bash\n",
    "rideId        taxiId   isStart           lon           lat                  rideTime   psgCnt\n",
    "150156    2013003948     false     -73.98211      40.74796     2013-01-01 06:49:26.0        2\n",
    "150538    2013003570     false    -74.004684      40.72859     2013-01-01 06:49:26.0        1\n",
    "151066    2013005078      true     -73.97712     40.752007     2013-01-01 06:49:26.0        1\n",
    "147794    2013010015     false     -73.87098     40.774143     2013-01-01 06:49:27.0        1\n",
    "148680    2013003578     false     -73.96466     40.680794     2013-01-01 06:49:27.0        1\n",
    "151067    2013002010      true    -73.992256     40.750004     2013-01-01 06:49:27.0        2\n",
    "```"
   ]
  },
  {
   "cell_type": "markdown",
   "metadata": {},
   "source": [
    "You can leave the result visualization mode by pressing `q`. The mode provides more functionality, such as skipping through pages or in/decreasing the update rate, as shown at the bottom.\n"
   ]
  },
  {
   "cell_type": "markdown",
   "metadata": {},
   "source": [
    "### Explore Predefined User Functions\n",
    "\n",
    "`SHOW FUNCTIONS;`\n",
    "\n",
    "- To k now more about UDF , go to this [link](https://nightlies.apache.org/flink/flink-docs-release-1.4/dev/table/udfs.html) "
   ]
  },
  {
   "cell_type": "markdown",
   "metadata": {},
   "source": [
    "```bash\n",
    "\n",
    "abs\n",
    "acos\n",
    "and\n",
    "array\n",
    "as\n",
    "asc\n",
    "asin\n",
    "at\n",
    "atan\n",
    "atan2\n",
    "avg\n",
    "between\n",
    "...\n",
    "```"
   ]
  },
  {
   "cell_type": "markdown",
   "metadata": {},
   "source": [
    "#### User-Defined Functions\n",
    "Four user-defined functions for the training isInNYC, toAreaId, toCoords, and Drivers.\n",
    "##### <small>`isInNYC(lon: FLOAT, lat: FLOAT): BOOLEAN`</small>\n",
    "<small>- **Description**: Checks if a location is within the NYC area.</small>\n",
    "\n",
    "##### <small>`toAreaId(lon: FLOAT, lat: FLOAT): INT`</small>\n",
    "<small>- **Description**: Maps a location (longitude, latitude) to an area id that represents a cell of approximately 100x100 meters size.</small>\n",
    "\n",
    "##### <small>`toCoords(areaId: INT): [lon: FLOAT, lat: FLOAT]`</small>\n",
    "<small>- **Description**: Reverse method of `toAreaId` to compute the longitude and latitude of the center of an area cell.</small>\n",
    "\n",
    "##### <small>`Drivers(ts: TIMESTAMP): Table(taxiId: BIGINT, driverId: BIGINT, usageStartTime: TIMESTAMP)`</small>\n",
    "<small>- **Description**:  \n",
    "  - A **Temporal Table Function** that returns for a timestamp `ts` the most recent driver for every taxi.  \n",
    "  - This function provides a table with the following columns:  \n",
    "    - `taxiId: BIGINT`  \n",
    "    - `driverId: BIGINT`  \n",
    "    - `usageStartTime: TIMESTAMP`  \n",
    "  - **Note**: This function will be discussed further in the context of joins.</small>\n"
   ]
  },
  {
   "cell_type": "markdown",
   "metadata": {},
   "source": [
    "# Exercises\n"
   ]
  },
  {
   "cell_type": "markdown",
   "metadata": {},
   "source": [
    "#### Find a Particular Ride\n",
    "\n",
    "Write a query that outputs the start and end event of ride 123.\n",
    " \n"
   ]
  },
  {
   "cell_type": "markdown",
   "metadata": {},
   "source": [
    "```\n",
    "isStart                  rideTime\n",
    "   true     2013-01-01 00:01:00.0\n",
    "  false     2013-01-01 00:07:00.0\n",
    "```"
   ]
  },
  {
   "cell_type": "markdown",
   "metadata": {},
   "source": [
    "The query filters by the ride id.\n"
   ]
  },
  {
   "cell_type": "markdown",
   "metadata": {},
   "source": [
    "<details>\n",
    "<summary>Click to see the solution.</summary>\n",
    "\n",
    "----\n",
    "```sql\n",
    "SELECT isStart, rideTime FROM Rides WHERE rideId=123;\n",
    "```\n",
    "\n",
    "----\n",
    "</details>"
   ]
  },
  {
   "cell_type": "markdown",
   "metadata": {},
   "source": [
    "### Cleanse the Rides\n",
    "\n",
    "The task of this exercise is to cleanse the table of ride events by removing events that do not start or end in New York City.\n",
    "hint:The query filters by using the UDF `isInNYC`.\n",
    "\n",
    "```\n",
    "rideId           taxiId          isStart              lon              lat                  rideTime    psgCnt\n",
    "     1       2013000001             true        -73.99078         40.76088     2013-01-01 00:00:00.0         1\n",
    "     2       2013000002             true       -73.978325         40.77809     2013-01-01 00:00:00.0         5\n",
    "     3       2013000003             true        -73.98962         40.72999     2013-01-01 00:00:00.0         1\n",
    "     4       2013000004             true       -73.981575         40.76763     2013-01-01 00:00:00.0         2\n",
    "     5       2013000005             true        -74.00053        40.737343     2013-01-01 00:00:00.0         4\n",
    "     6       2013000006             true       -73.866135         40.77109     2013-01-01 00:00:00.0         6\n",
    "     7       2013000007             true        -74.00693        40.740765     2013-01-01 00:00:00.0         6\n",
    "     8       2013000008             true       -73.955925        40.781887     2013-01-01 00:00:00.0         3\n",
    "     9       2013000009             true        -73.99988        40.743343     2013-01-01 00:00:00.0         1\n",
    "    10       2013000010             true       -73.989845         40.75804     2013-01-01 00:00:00.0         3\n",
    "    11       2013000011             true       -73.870834         40.77377     2013-01-01 00:00:00.0         1\n",
    "```"
   ]
  },
  {
   "cell_type": "markdown",
   "metadata": {},
   "source": [
    "<details>\n",
    "<summary>Click to see the solution.</summary>\n",
    "\n",
    "----\n",
    "```sql\n",
    "SELECT * FROM Rides WHERE isInNYC(lon, lat);\n",
    "```\n",
    "\n",
    "The query filters by using the UDF `isInNYC`.\n",
    "\n",
    "----\n",
    "</details>"
   ]
  },
  {
   "cell_type": "markdown",
   "metadata": {},
   "source": [
    "## Types of Operators\n",
    "##### Stateless Operators\n",
    "- Projection (`SELECT`)\n",
    "- Filter (`WHERE`)\n",
    "##### Materializing (Stateful) Operators\n",
    "- Aggregation (`GROUP BY`)\n",
    "- Joins\n",
    "##### Temporal Operators\n",
    "- Windowed Aggregations\n",
    "  - (`GROUP BY`, `OVER`, window table-valued functions)\n",
    "- Time-based Joins\n",
    "  - (interval joins, temporal table joins)\n",
    "- Pattern Matching\n",
    "  - (`MATCH_RECOGNIZE`)\n"
   ]
  },
  {
   "cell_type": "markdown",
   "metadata": {},
   "source": [
    "# Querying Dynamic Tables with SQL\n"
   ]
  },
  {
   "cell_type": "markdown",
   "metadata": {},
   "source": [
    "### Ride Count per Number of Passengers\n",
    "\n",
    "For this exercise you should compute the number of rides per number of passengers, i.e., determine how many rides happened with 1, 2, 3, ... passengers.\n",
    "\n",
    "We are only interested in counts for rides that started in New York City.\n",
    "\n",
    "hint: Each ride is represented by two events. Filter out all end events for accurate counts."
   ]
  },
  {
   "cell_type": "markdown",
   "metadata": {},
   "source": [
    "\n",
    "\n",
    "```\n",
    "psgCnt         cnt\n",
    "     4        6051\n",
    "     2       31063\n",
    "     3       10812\n",
    "     6        5408\n",
    "     5       11031\n",
    "     1      100367\n",
    "```"
   ]
  },
  {
   "cell_type": "markdown",
   "metadata": {},
   "source": [
    "<details>\n",
    "<summary>Click to see the solution.</summary>\n",
    "\n",
    "----\n",
    "```sql\n",
    "SELECT\n",
    "  psgCnt,\n",
    "  COUNT(*) AS cnt\n",
    "FROM Rides\n",
    "WHERE isInNYC(lon, lat) AND isStart\n",
    "GROUP BY\n",
    "  psgCnt;\n",
    "```\n",
    "\n",
    "----\n",
    "</details>"
   ]
  },
  {
   "cell_type": "markdown",
   "metadata": {},
   "source": [
    "### Ride Count per Area and Hour of Day\n",
    "\n",
    "In this exercise we want to count the total number of arriving and departing rides per area for every hour of a day, i.e., the total number of rides per area that happen from 12pm to 1am, 1am to 2am, and so on. Hence, we do not want a separate count for every day but the combined counts of all days for every hour.\n",
    "\n",
    "We are only interested in events that start or end in New York City. To limit the size of the result, return only areas with counts that include more than 60 events.\n",
    "\n",
    "<summary>hints:</summary>\n",
    "\n",
    "* Use the built-in `HOUR` function to extract the hour of a timestamp.\n",
    "* Use the provided `toAreaId` to convert coordinates to an area id.\n"
   ]
  },
  {
   "cell_type": "markdown",
   "metadata": {},
   "source": [
    "\n",
    "```\n",
    "area       isStart     hourOfDay        cnt\n",
    "49551      false       0                85\n",
    "49789       true       0                64\n",
    "48806       true       0                75\n",
    "50044      false       0                62\n",
    "52543       true       0                67\n",
    "49792      false       1                77\n",
    "48559       true       1               114\n",
    "48808       true       1               100\n",
    "```"
   ]
  },
  {
   "cell_type": "markdown",
   "metadata": {},
   "source": [
    "<details>\n",
    "<summary>Click to see the solution.</summary>\n",
    "\n",
    "----\n",
    "```sql\n",
    "SELECT\n",
    "  toAreaId(lon, lat) AS area,\n",
    "  isStart,\n",
    "  HOUR(rideTime) AS hourOfDay,\n",
    "  COUNT(*) AS cnt\n",
    "FROM Rides\n",
    "WHERE isInNYC(lon, lat)\n",
    "GROUP BY\n",
    "  toAreaId(lon, lat),\n",
    "  isStart,\n",
    "  HOUR(rideTime)\n",
    "HAVING COUNT(*) > 60;\n",
    "```\n",
    "\n",
    "The query is a typical `SELECT FROM GROUP BY` query. After filtering by rides in New York City, the result is grouped by area id, `isStart` flag, and hour of the day (computed by the `HOUR(timestamp)` function). By using the `HAVING` clause, we only return counts that are greater than 60.\n",
    "\n",
    "----\n",
    "</details>"
   ]
  },
  {
   "cell_type": "markdown",
   "metadata": {},
   "source": [
    "# GROUP BY windows aggregation\n"
   ]
  },
  {
   "cell_type": "markdown",
   "metadata": {},
   "source": [
    "### Windowed Ride Count\n",
    "\n",
    "For continuously determining the city's taxi traffic situation, count the number of arriving and departing rides per area in a window of 5 minutes.\n",
    "\n",
    "We are only interested in events that start or end in New York City and areas with at least 5 arriving or departing rides.\n",
    "<summary> hint</summary>\n",
    "\n",
    "* Use the provided `toAreaId` to convert coordinates to an area id."
   ]
  },
  {
   "cell_type": "markdown",
   "metadata": {},
   "source": [
    "The `t` column represents the end of every 5-minute window.\n"
   ]
  },
  {
   "cell_type": "markdown",
   "metadata": {},
   "source": [
    "```\n",
    "area         isStart      t                             cnt\n",
    "49282        true         2013-01-01 00:05:00.0           6\n",
    "45881        true         2013-01-01 00:05:00.0           8\n",
    "51781        true         2013-01-01 00:05:00.0           8\n",
    "49551        true         2013-01-01 00:05:00.0           7\n",
    "48540        true         2013-01-01 00:10:00.0           6\n",
    "51795        true         2013-01-01 00:10:00.0           6\n",
    "47550        true         2013-01-01 00:10:00.0           6\n",
    "54285        true         2013-01-01 00:10:00.0           8\n",
    "51781        true         2013-01-01 00:10:00.0          17\n",
    "45548        true         2013-01-01 00:10:00.0          14\n",
    "```"
   ]
  },
  {
   "cell_type": "markdown",
   "metadata": {},
   "source": [
    "<details>\n",
    "<summary>Click to see the solution.</summary>\n",
    "\n",
    "----\n",
    "```sql\n",
    "SELECT\n",
    "  toAreaId(lon, lat) AS area,\n",
    "  isStart,\n",
    "  TUMBLE_END(rideTime, INTERVAL '5' MINUTE) AS t,\n",
    "  COUNT(*) AS cnt\n",
    "FROM Rides\n",
    "WHERE isInNYC(lon, lat)\n",
    "GROUP BY\n",
    "  toAreaId(lon, lat),\n",
    "  isStart,\n",
    "  TUMBLE(rideTime, INTERVAL '5' MINUTE)\n",
    "HAVING COUNT(*) >= 5;\n",
    "```"
   ]
  },
  {
   "cell_type": "markdown",
   "metadata": {},
   "source": [
    "The query filters out events that do not start in New York City. It uses a tumbling window of 5 minutes on the `rideTime` time attribute. The result is grouped by the area id, the `isStart` flag, and the tumbling window. For every group, we return the area id, the `isStart` flag, the end boundary of the window, and the aggregated count. We only return counts that are equal or greater than 5."
   ]
  },
  {
   "cell_type": "markdown",
   "metadata": {},
   "source": [
    "# Joining Dynamic Tables\n"
   ]
  },
  {
   "cell_type": "markdown",
   "metadata": {},
   "source": [
    "### Interval Joins (Average Tip per Hour of Day)\n",
    "\n",
    "Compute the average tip per hour of day and number of passengers if the payTime attribute is at most 5 minutes earlier than the rideTime\n",
    "\n",
    "\n"
   ]
  },
  {
   "cell_type": "markdown",
   "metadata": {},
   "source": [
    "<summary> hints</summary>\n",
    "\n",
    "* The tip paid for a ride is contained in the `Fares` table.\n",
    "* The payment event is expected to happen at most 5 minutes before the trip ends. Hence, the `payTime` timestamp of a `Fares` record is at most 5 minutes earlier and not later than the `rideTime` of the corresponding ride's end event.\n",
    "* Use the built-in `HOUR` function to extract the hour of a timestamp. "
   ]
  },
  {
   "cell_type": "markdown",
   "metadata": {},
   "source": [
    "\n",
    "```\n",
    "hourOfDay             avgTip\n",
    "        0          0.9319049\n",
    "        1           1.100541\n",
    "        2          1.1744025\n",
    "        3          1.2137822\n",
    "        4          1.1707343\n",
    "        5          1.1629586\n",
    "        6          1.1505183\n",
    "```"
   ]
  },
  {
   "cell_type": "markdown",
   "metadata": {},
   "source": [
    "<details>\n",
    "<summary>Click to see the solution.</summary>\n",
    "\n",
    "----\n",
    "```sql\n",
    "SELECT\n",
    "  HOUR(r.rideTime) AS hourOfDay,\n",
    "  r.psgCnt,\n",
    "  AVG(f.tip) AS avgTip\n",
    "FROM\n",
    "  Rides r,\n",
    "  Fares f\n",
    "WHERE \n",
    "  r.rideId = f.rideId AND\n",
    "  NOT r.isStart AND\n",
    "  f.payTime BETWEEN r.rideTime - INTERVAL '5' MINUTE AND r.rideTime\n",
    "GROUP BY\n",
    "  HOUR(r.rideTime), r.psgCnt;\n",
    "```"
   ]
  },
  {
   "cell_type": "markdown",
   "metadata": {},
   "source": [
    "The query joins ride end events of the `Rides` table with payment events of the `Fares` table on the `rideId` key and their timestamps. The interval join condition joins a payment and a ride event if the `payTime` attribute is at most 5 minutes earlier than the `rideTime` attribute. After both tables are joined, the query groups by the hour of day (computed with the `HOUR` function) and computes the average tip."
   ]
  },
  {
   "cell_type": "markdown",
   "metadata": {},
   "source": [
    "### Compute the Ride Duration\n",
    "\n",
    "In this exercise we want to compute the duration of every taxi ride, i.e., the time between its start and end event, in minutes. This means that we need to join start event and end event based on the ride id.\n",
    "\n",
    "We are only interested in rides that start and end in New York City and take less than two hours."
   ]
  },
  {
   "cell_type": "markdown",
   "metadata": {},
   "source": [
    "<summary> hints:</summary>\n",
    "\n",
    "* Filter the `Rides` table to separate start and end events.\n",
    "* Use an interval join to associate the start and end events of a ride. Only join an end event if it arrives within 2 hours after a start event has arrived.\n",
    "* Use the built-in function [`TIMESTAMPDIFF(timepointunit, timepoint1, timepoint2)`](https://ci.apache.org/projects/flink/flink-docs-release-1.11/dev/table/functions/systemFunctions.html#temporal-functions) to compute the difference of two timestamps in minutes.\n"
   ]
  },
  {
   "cell_type": "markdown",
   "metadata": {},
   "source": [
    "\n",
    "```\n",
    "rideId        durationMin\n",
    " 52693                 13\n",
    " 46868                 24\n",
    " 53226                 12\n",
    " 53629                 11\n",
    " 55651                  7\n",
    " 43220                 31\n",
    " 53082                 12\n",
    " 54716                  9\n",
    " 55125                  9\n",
    " 57211                  4\n",
    " 44795                 28\n",
    " 53563                 12\n",
    "```"
   ]
  },
  {
   "cell_type": "markdown",
   "metadata": {},
   "source": [
    "<details>\n",
    "<summary>Click to see the solution.</summary>\n",
    "\n",
    "----\n",
    "```sql\n",
    "SELECT\n",
    "  s.rideId,\n",
    "  TIMESTAMPDIFF(MINUTE, s.rideTime, e.rideTime) AS durationMin\n",
    "FROM\n",
    "  (SELECT * FROM Rides WHERE isStart AND isInNYC(lon, lat)) s,\n",
    "  (SELECT * FROM Rides WHERE NOT isStart AND isInNYC(lon, lat)) e\n",
    "WHERE\n",
    "  s.rideId = e.rideId AND\n",
    "  e.rideTime BETWEEN s.rideTime AND s.rideTime + INTERVAL '2' HOUR;\n",
    "```\n",
    "\n",
    "\n",
    "</details>\n"
   ]
  },
  {
   "cell_type": "markdown",
   "metadata": {},
   "source": [
    "\n",
    "This query performs an interval join between two subqueries. The first subquery `s` returns the start events within New York City. The second subquery `e` returns the end events within New York City.\n",
    "\n",
    "Both tables are joined on the `rideId` column. Additionally, the `WHERE` clause specifies time constraints between an end event and a start event. This ensures to only join two taxi rides if the end event arrives within 2 hours after the start event.\n",
    "\n",
    "The resulting `durationMin` column contains the duration between both timestamps in minutes.\n"
   ]
  },
  {
   "cell_type": "markdown",
   "metadata": {},
   "source": [
    "### Temporal Table Joins\n",
    "\n",
    "A temporal table join joins a streaming table with a temporal table. A temporal table maintains the history of a table and is able to return the table's rows for a specific point in time. For each record of the streaming table, the join looks up the rows of the version of the temporal table that corresponds to the timestamp of current record and joins them according to additional join predicates.\n",
    "\n",
    "Due to the temporal condition, the join operator only holds the relevant history of the temporal table in state and does not store the streaming table at all.\n",
    "\n"
   ]
  },
  {
   "cell_type": "markdown",
   "metadata": {},
   "source": [
    "### Identify Drivers with many Passengers\n",
    "\n",
    "- Identify all drivers who served in 15 minutes at least 10 passengers.\n",
    "\n",
    "- The temporal table function `Drivers` gives provides the driver that operated a taxi at a specific point in time..\n",
    "\n"
   ]
  },
  {
   "cell_type": "markdown",
   "metadata": {},
   "source": [
    "```\n",
    "  driverId                srvdPsgCnt                         t\n",
    "2013000155                        12     2013-01-01 00:00:00.0\n",
    "2013000233                        12     2013-01-01 00:00:00.0\n",
    "2013000230                        31     2013-01-01 00:00:00.0\n",
    "2013001174                        12     2013-01-01 00:00:00.0\n",
    "2013000014                        12     2013-01-01 00:00:00.0\n",
    "2013000595                        12     2013-01-01 00:00:00.0\n",
    "2013002453                        12     2013-01-01 00:00:00.0\n",
    "2013000124                        12     2013-01-01 00:00:00.0\n",
    "2013000117                        18     2013-01-01 00:00:00.0\n",
    "```"
   ]
  },
  {
   "cell_type": "markdown",
   "metadata": {},
   "source": [
    "<details>\n",
    "<summary>Click to see the solution.</summary>\n",
    "\n",
    "----\n",
    "```sql\n",
    "SELECT \n",
    "  d.driverId, \n",
    "  SUM(r.psgCnt) AS srvdPsgCnt,\n",
    "  TUMBLE_START(r.rideTime, INTERVAL '15' MINUTE) AS t\n",
    "FROM\n",
    "  Rides r, \n",
    "  LATERAL TABLE(Drivers(r.rideTime)) d\n",
    "WHERE\n",
    "  r.taxiId = d.taxiId AND\n",
    "  r.isStart\n",
    "GROUP BY\n",
    "  d.driverId,\n",
    "  TUMBLE(r.rideTime, INTERVAL '15' MINUTE)\n",
    "HAVING SUM(r.psgCnt) >= 10;\n",
    "```\n",
    "</details>\n"
   ]
  },
  {
   "cell_type": "markdown",
   "metadata": {},
   "source": [
    "The query joins each ride start event of the `Rides` table with the temporal `Drivers` table and enriches it with the driver who was driving the taxi when the ride started. Subsequently, the query groups the enriched data by the `driverId` and a 15 minute window and computes the number of served passengers. The final `HAVING` clause removes all drivers who did not serve at least 10 passengers."
   ]
  },
  {
   "cell_type": "markdown",
   "metadata": {},
   "source": [
    "# Pattern Matching with MATCH_RECOGNIZE\n"
   ]
  },
  {
   "cell_type": "markdown",
   "metadata": {},
   "source": [
    "### Compute the Ride Duration\n",
    "\n",
    "In this exercise we want to compute the duration of every taxi ride, i.e., the time between its start and end event, in minutes. This means that we need to look for the pattern of a start event and end event based on the ride id.\n",
    "\n",
    "**Note:** This is exactly the same exercise as in the join exercises, but this time we want to solve it with MATCH_RECOGNIZE.\n"
   ]
  },
  {
   "cell_type": "markdown",
   "metadata": {},
   "source": [
    "<summary>hints:</summary>\n",
    "\n",
    "* We are looking for a pattern per `rideId`.\n",
    "* The pattern consists of two types of events a start event followed by an end event.\n",
    "* Use the built-in function [`TIMESTAMPDIFF(timepointunit, timepoint1, timepoint2)`](https://ci.apache.org/projects/flink/flink-docs-release-1.11/dev/table/functions/systemFunctions.html#temporal-functions) to compute the difference of two timestamps in minutes."
   ]
  },
  {
   "cell_type": "markdown",
   "metadata": {},
   "source": [
    "```\n",
    "rideId        durationMin\n",
    " 52693                 13\n",
    " 46868                 24\n",
    " 53226                 12\n",
    " 53629                 11\n",
    " 55651                  7\n",
    " 43220                 31\n",
    " 53082                 12\n",
    " 54716                  9\n",
    " 55125                  9\n",
    " 57211                  4\n",
    " 44795                 28\n",
    " 53563                 12\n",
    "\n",
    "```"
   ]
  },
  {
   "cell_type": "markdown",
   "metadata": {},
   "source": [
    "<details>\n",
    "<summary>Click to see the solution.</summary>\n",
    "\n",
    "----\n",
    "```sql\n",
    "SELECT rideId, TIMESTAMPDIFF(MINUTE, startT, endT) AS durationMin\n",
    "FROM Rides\n",
    "MATCH_RECOGNIZE (\n",
    "  PARTITION BY rideId\n",
    "  ORDER BY rideTime\n",
    "  MEASURES \n",
    "    S.rideTime AS startT, \n",
    "    E.rideTime AS endT\n",
    "  AFTER MATCH SKIP PAST LAST ROW\n",
    "  PATTERN (S E)\n",
    "  DEFINE\n",
    "    S AS S.isStart,\n",
    "    E AS NOT E.isStart\n",
    ");\n",
    "```"
   ]
  },
  {
   "cell_type": "markdown",
   "metadata": {},
   "source": [
    "This query matches start and end events of the same ride, i.e., that have the same ride id. By partitioning the table on rideId, only rides with the same id are processed together. Events are then distinguished into a start event S and an end event E and the pattern to match is defined as (S E), i.e., exactly one S followed by exactly one E. Finally, we emit for each match, the rideId and the timestamps of the start and end events, and compute the ride duration in the SELECT clause using the TIMESTAMPDIFF function.\n",
    "\n"
   ]
  },
  {
   "cell_type": "markdown",
   "metadata": {},
   "source": [
    "### Rides and Rest\n",
    "\n",
    "Use the MATCH_RECOGNIZE clause to detect a pattern of:\n",
    "\n",
    "- a start event,\n",
    "- an arbitrary number of potential intermediate events for the same taxi but from different rides,\n",
    "- an end event,\n",
    "- and the next start event.\n",
    "\n",
    "\n",
    "Compute the resting times in minutes."
   ]
  },
  {
   "cell_type": "markdown",
   "metadata": {},
   "source": [
    "<summary> hints:</summary>\n",
    "\n",
    "* Use a `AFTER MATCH SKIP TO LAST variable` strategy to include the last start event in the next pattern matching.\n",
    "* Use the built-in `TIMESTAMPDIFF` function to calculate the difference in minutes."
   ]
  },
  {
   "cell_type": "markdown",
   "metadata": {},
   "source": [
    "```\n",
    "                   taxiId                ride_start                  ride_end           next_ride_start           minutes_of_rest\n",
    "                2013000002     2013-01-01 00:00:00.0     2013-01-01 00:06:00.0     2013-01-01 00:16:00.0                        10\n",
    "                2013000004     2013-01-01 00:00:00.0     2013-01-01 00:08:00.0     2013-01-01 00:13:00.0                         5\n",
    "                2013000032     2013-01-01 00:00:00.0     2013-01-01 00:05:00.0     2013-01-01 00:06:00.0                         1\n",
    "                2013000128     2013-01-01 00:01:00.0     2013-01-01 00:04:00.0     2013-01-01 00:12:00.0                         8\n",
    "                2013000256     2013-01-01 00:02:00.0     2013-01-01 00:10:00.0     2013-01-01 00:10:00.0                         0\n",
    "                2013000512     2013-01-01 00:03:25.0     2013-01-01 00:04:51.0     2013-01-01 00:10:00.0                         5\n",
    "                2013000512     2013-01-01 00:10:00.0     2013-01-01 00:13:31.0     2013-01-01 00:14:19.0                         0\n",
    "                2013001028     2013-01-01 00:05:52.0     2013-01-01 00:13:20.0     2013-01-01 00:14:12.0                         0\n",
    "                2013000258     2013-01-01 00:02:00.0     2013-01-01 00:08:00.0     2013-01-01 00:11:00.0                         3\n",
    "                2013002070     2013-01-01 00:08:57.0     2013-01-01 00:12:26.0     2013-01-01 00:13:46.0                         1\n",
    "```"
   ]
  },
  {
   "cell_type": "markdown",
   "metadata": {},
   "source": [
    "<details>\n",
    "<summary>Click to see the solution.</summary>\n",
    "\n",
    "----\n",
    "```sql\n",
    "SELECT * FROM Rides\n",
    "MATCH_RECOGNIZE(\n",
    "  PARTITION BY taxiId\n",
    "  ORDER BY rideTime\n",
    "  MEASURES\n",
    "    START_RIDE.rideTime AS ride_start,\n",
    "    END_RIDE.rideTime AS ride_end,\n",
    "    NEXT_RIDE.rideTime AS next_ride_start,\n",
    "    TIMESTAMPDIFF(MINUTE, END_RIDE.rideTime, NEXT_RIDE.rideTime) AS minutes_of_rest\n",
    "  AFTER MATCH SKIP TO LAST NEXT_RIDE\n",
    "  PATTERN (START_RIDE M* END_RIDE NEXT_RIDE)\n",
    "  DEFINE\n",
    "    START_RIDE AS START_RIDE.isStart = true,\n",
    "    M AS M.rideId <> START_RIDE.rideId,\n",
    "    END_RIDE AS END_RIDE.isStart = false,\n",
    "    NEXT_RIDE AS NEXT_RIDE.isStart = true\n",
    ");\n",
    "```\n",
    "</details>"
   ]
  },
  {
   "cell_type": "markdown",
   "metadata": {},
   "source": [
    "The query matches the pattern mentioned above. The variable `START_RIDE` detects the start event. `M` defines a greedy set of ride events that don't belong to the same ride of the start event. The `END_RIDE` detects the end event. The `NEXT_RIDE` variable defines the following start event for computing the resting time. Once a match has been detected, we measure the difference in minutes and return it."
   ]
  }
 ],
 "metadata": {
  "kernelspec": {
   "display_name": "base",
   "language": "python",
   "name": "python3"
  },
  "language_info": {
   "codemirror_mode": {
    "name": "ipython",
    "version": 3
   },
   "file_extension": ".py",
   "mimetype": "text/x-python",
   "name": "python",
   "nbconvert_exporter": "python",
   "pygments_lexer": "ipython3",
   "version": "3.11.5"
  }
 },
 "nbformat": 4,
 "nbformat_minor": 2
}
